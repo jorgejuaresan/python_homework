{
 "cells": [
  {
   "cell_type": "code",
   "execution_count": 70,
   "metadata": {},
   "outputs": [],
   "source": [
    "#Pandas activation\n",
    "import pandas as pd"
   ]
  },
  {
   "cell_type": "code",
   "execution_count": 71,
   "metadata": {},
   "outputs": [
    {
     "data": {
      "text/html": [
       "<div>\n",
       "<style scoped>\n",
       "    .dataframe tbody tr th:only-of-type {\n",
       "        vertical-align: middle;\n",
       "    }\n",
       "\n",
       "    .dataframe tbody tr th {\n",
       "        vertical-align: top;\n",
       "    }\n",
       "\n",
       "    .dataframe thead th {\n",
       "        text-align: right;\n",
       "    }\n",
       "</style>\n",
       "<table border=\"1\" class=\"dataframe\">\n",
       "  <thead>\n",
       "    <tr style=\"text-align: right;\">\n",
       "      <th></th>\n",
       "      <th>Voter ID</th>\n",
       "      <th>County</th>\n",
       "      <th>Candidate</th>\n",
       "    </tr>\n",
       "  </thead>\n",
       "  <tbody>\n",
       "    <tr>\n",
       "      <th>0</th>\n",
       "      <td>12864552</td>\n",
       "      <td>Marsh</td>\n",
       "      <td>Khan</td>\n",
       "    </tr>\n",
       "    <tr>\n",
       "      <th>1</th>\n",
       "      <td>17444633</td>\n",
       "      <td>Marsh</td>\n",
       "      <td>Correy</td>\n",
       "    </tr>\n",
       "    <tr>\n",
       "      <th>2</th>\n",
       "      <td>19330107</td>\n",
       "      <td>Marsh</td>\n",
       "      <td>Khan</td>\n",
       "    </tr>\n",
       "    <tr>\n",
       "      <th>3</th>\n",
       "      <td>19865775</td>\n",
       "      <td>Queen</td>\n",
       "      <td>Khan</td>\n",
       "    </tr>\n",
       "    <tr>\n",
       "      <th>4</th>\n",
       "      <td>11927875</td>\n",
       "      <td>Marsh</td>\n",
       "      <td>Khan</td>\n",
       "    </tr>\n",
       "  </tbody>\n",
       "</table>\n",
       "</div>"
      ],
      "text/plain": [
       "   Voter ID County Candidate\n",
       "0  12864552  Marsh      Khan\n",
       "1  17444633  Marsh    Correy\n",
       "2  19330107  Marsh      Khan\n",
       "3  19865775  Queen      Khan\n",
       "4  11927875  Marsh      Khan"
      ]
     },
     "execution_count": 71,
     "metadata": {},
     "output_type": "execute_result"
    }
   ],
   "source": [
    "#Import the CSV file\n",
    "PyPoll_file = 'Resources/election_data.csv'\n",
    "#read the CSV file\n",
    "PyPoll_df = pd.read_csv(PyPoll_file)\n",
    "\n",
    "PyPoll_df.head()"
   ]
  },
  {
   "cell_type": "code",
   "execution_count": 72,
   "metadata": {},
   "outputs": [
    {
     "data": {
      "text/plain": [
       "3521001"
      ]
     },
     "execution_count": 72,
     "metadata": {},
     "output_type": "execute_result"
    }
   ],
   "source": [
    "#The total number of votes\n",
    "Vote_count = PyPoll_df[\"Voter ID\"].count()\n",
    "Vote_count"
   ]
  },
  {
   "cell_type": "code",
   "execution_count": 73,
   "metadata": {},
   "outputs": [
    {
     "data": {
      "text/plain": [
       "['Khan', 'Correy', 'Li', \"O'Tooley\"]"
      ]
     },
     "execution_count": 73,
     "metadata": {},
     "output_type": "execute_result"
    }
   ],
   "source": [
    "#A complete list of candidates who received votes\n",
    "Candidates_WV = PyPoll_df[\"Candidate\"].unique().tolist()\n",
    "Candidates_WV\n",
    "#Candidates_df = pd.DataFrame(Candidates_WV)\n",
    "#Candidates_df.columns = ['Candidates With Votes']\n",
    "#Candidates_df\n"
   ]
  },
  {
   "cell_type": "code",
   "execution_count": 74,
   "metadata": {},
   "outputs": [
    {
     "data": {
      "text/plain": [
       "63.0"
      ]
     },
     "execution_count": 74,
     "metadata": {},
     "output_type": "execute_result"
    }
   ],
   "source": [
    "#The percentage of votes each candidate won - Khan\n",
    "Vote_khan = PyPoll_df.query(\"Candidate =='Khan'\")[\"Candidate\"].count()\n",
    "#Vote_khan\n",
    "# Percentage\n",
    "Vote_khanp = round((Vote_khan / Vote_count)*100,3)\n",
    "Vote_khanp"
   ]
  },
  {
   "cell_type": "code",
   "execution_count": 75,
   "metadata": {},
   "outputs": [
    {
     "data": {
      "text/plain": [
       "20.0"
      ]
     },
     "execution_count": 75,
     "metadata": {},
     "output_type": "execute_result"
    }
   ],
   "source": [
    "#The percentage of votes each candidate won - Correy\n",
    "Vote_Correy = PyPoll_df.query(\"Candidate =='Correy'\")[\"Candidate\"].count()\n",
    "#Vote_khan\n",
    "# Percentage\n",
    "Vote_Correyp = round((Vote_Correy / Vote_count)*100,3)\n",
    "Vote_Correyp"
   ]
  },
  {
   "cell_type": "code",
   "execution_count": 76,
   "metadata": {},
   "outputs": [
    {
     "data": {
      "text/plain": [
       "14.0"
      ]
     },
     "execution_count": 76,
     "metadata": {},
     "output_type": "execute_result"
    }
   ],
   "source": [
    "#The percentage of votes each candidate won - LI\n",
    "Vote_Li = PyPoll_df.query(\"Candidate =='Li'\")[\"Candidate\"].count()\n",
    "#Vote_khan\n",
    "# Percentage\n",
    "Vote_Lip = round((Vote_Li / Vote_count)*100,3)\n",
    "Vote_Lip"
   ]
  },
  {
   "cell_type": "code",
   "execution_count": 77,
   "metadata": {},
   "outputs": [
    {
     "data": {
      "text/plain": [
       "3.0"
      ]
     },
     "execution_count": 77,
     "metadata": {},
     "output_type": "execute_result"
    }
   ],
   "source": [
    "#The percentage of votes each candidate won - O'Tooley\n",
    "Vote_OTooley = (Vote_count - Vote_khan - Vote_Correy - Vote_Li)\n",
    "#Vote_khan\n",
    "# Percentage\n",
    "Vote_OTooleyp = round((Vote_OTooley / Vote_count)*100,3)\n",
    "Vote_OTooleyp"
   ]
  },
  {
   "cell_type": "code",
   "execution_count": 79,
   "metadata": {},
   "outputs": [
    {
     "name": "stdout",
     "output_type": "stream",
     "text": [
      "Election Results\n",
      "-----------------\n",
      "Total Votes: 3521001\n",
      "-----------------\n",
      "Khan: 63.0%  (2218231)\n",
      "Correy: 20.0%  (704200)\n",
      "Li: 14.0%  (492940)\n",
      "O'Tooley: 3.0%  (105630)\n",
      "-----------------\n",
      "Winner: Khan\n"
     ]
    }
   ],
   "source": [
    "File = open('Election Results.txt','wt')\n",
    "\n",
    "print(\"Election Results\")\n",
    "print(\"-----------------\")\n",
    "print(\"Total Votes: \" + str(Vote_count))\n",
    "print(\"-----------------\")\n",
    "print(\"Khan: \" + str(Vote_khanp) + \"%  (\" + str(Vote_khan) +\")\")\n",
    "print(\"Correy: \" + str(Vote_Correyp) + \"%  (\" + str(Vote_Correy) +\")\")\n",
    "print(\"Li: \" + str(Vote_Lip) + \"%  (\" + str(Vote_Li) +\")\")\n",
    "print(\"O'Tooley: \" + str(Vote_OTooleyp) + \"%  (\" + str(Vote_OTooley) +\")\")\n",
    "print(\"-----------------\")\n",
    "print(\"Winner: Khan\")"
   ]
  },
  {
   "cell_type": "code",
   "execution_count": null,
   "metadata": {},
   "outputs": [],
   "source": []
  },
  {
   "cell_type": "code",
   "execution_count": null,
   "metadata": {},
   "outputs": [],
   "source": []
  }
 ],
 "metadata": {
  "kernelspec": {
   "display_name": "Python 3",
   "language": "python",
   "name": "python3"
  },
  "language_info": {
   "codemirror_mode": {
    "name": "ipython",
    "version": 3
   },
   "file_extension": ".py",
   "mimetype": "text/x-python",
   "name": "python",
   "nbconvert_exporter": "python",
   "pygments_lexer": "ipython3",
   "version": "3.7.0"
  }
 },
 "nbformat": 4,
 "nbformat_minor": 2
}
